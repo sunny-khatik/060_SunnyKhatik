{
 "cells": [
  {
   "cell_type": "code",
   "execution_count": 1,
   "metadata": {
    "id": "ja-kBb8Tp4uv"
   },
   "outputs": [],
   "source": [
    "import numpy as np \n",
    "import matplotlib.pyplot as plt \n",
    "from sklearn.decomposition import PCA \n",
    "import pandas as pd \n",
    "import math \n",
    "import random \n",
    "from sklearn import datasets"
   ]
  },
  {
   "cell_type": "code",
   "execution_count": 2,
   "metadata": {
    "id": "wvnLQJRPqovn"
   },
   "outputs": [],
   "source": [
    "dataset = datasets.load_breast_cancer()"
   ]
  },
  {
   "cell_type": "code",
   "execution_count": 3,
   "metadata": {
    "colab": {
     "base_uri": "https://localhost:8080/"
    },
    "id": "r-0rW3niqpq6",
    "outputId": "a0fed2b6-08bf-4e5d-8706-13e25cc6416f"
   },
   "outputs": [
    {
     "data": {
      "text/plain": [
       "(569, 30)"
      ]
     },
     "execution_count": 3,
     "metadata": {},
     "output_type": "execute_result"
    }
   ],
   "source": [
    "dataset.data.shape"
   ]
  },
  {
   "cell_type": "code",
   "execution_count": 4,
   "metadata": {
    "colab": {
     "base_uri": "https://localhost:8080/"
    },
    "id": "2kcsDLGCqqvN",
    "outputId": "9adefe7b-8f7b-42d1-e917-971bad88d22c"
   },
   "outputs": [
    {
     "data": {
      "text/plain": [
       "(569,)"
      ]
     },
     "execution_count": 4,
     "metadata": {},
     "output_type": "execute_result"
    }
   ],
   "source": [
    "dataset.target.shape"
   ]
  },
  {
   "cell_type": "code",
   "execution_count": 5,
   "metadata": {
    "colab": {
     "base_uri": "https://localhost:8080/"
    },
    "id": "dV8xGo1vqrfK",
    "outputId": "d2a19eaf-50b9-4acc-839c-fb719978a2fa"
   },
   "outputs": [
    {
     "data": {
      "text/plain": [
       "array(['mean radius', 'mean texture', 'mean perimeter', 'mean area',\n",
       "       'mean smoothness', 'mean compactness', 'mean concavity',\n",
       "       'mean concave points', 'mean symmetry', 'mean fractal dimension',\n",
       "       'radius error', 'texture error', 'perimeter error', 'area error',\n",
       "       'smoothness error', 'compactness error', 'concavity error',\n",
       "       'concave points error', 'symmetry error',\n",
       "       'fractal dimension error', 'worst radius', 'worst texture',\n",
       "       'worst perimeter', 'worst area', 'worst smoothness',\n",
       "       'worst compactness', 'worst concavity', 'worst concave points',\n",
       "       'worst symmetry', 'worst fractal dimension'], dtype='<U23')"
      ]
     },
     "execution_count": 5,
     "metadata": {},
     "output_type": "execute_result"
    }
   ],
   "source": [
    "dataset.feature_names"
   ]
  },
  {
   "cell_type": "code",
   "execution_count": 6,
   "metadata": {
    "colab": {
     "base_uri": "https://localhost:8080/"
    },
    "id": "wjm3AvC7qsSu",
    "outputId": "05e511e9-0e07-4fb4-87c2-29d6a17beafb"
   },
   "outputs": [
    {
     "data": {
      "text/plain": [
       "array(['malignant', 'benign'], dtype='<U9')"
      ]
     },
     "execution_count": 6,
     "metadata": {},
     "output_type": "execute_result"
    }
   ],
   "source": [
    "dataset.target_names"
   ]
  },
  {
   "cell_type": "code",
   "execution_count": 13,
   "metadata": {
    "id": "tPE13n9bqtn2"
   },
   "outputs": [],
   "source": [
    "from sklearn.model_selection import train_test_split\n",
    "# roll_Number = 60\n",
    "x_train, x_test, y_train, y_test = train_test_split(dataset.data, dataset.target, test_size = 0.2,random_state=60)"
   ]
  },
  {
   "cell_type": "markdown",
   "metadata": {
    "id": "tmEIrTaWqz2R"
   },
   "source": [
    "SVM Without applying Dimensinality Reduction"
   ]
  },
  {
   "cell_type": "code",
   "execution_count": 14,
   "metadata": {
    "id": "3MPjOfqlqu02"
   },
   "outputs": [],
   "source": [
    "from sklearn import svm,metrics\n",
    "model = svm.SVC(kernel='linear')\n",
    "model.fit(x_train,y_train)\n",
    "pred = model.predict(x_test)"
   ]
  },
  {
   "cell_type": "code",
   "execution_count": 15,
   "metadata": {
    "colab": {
     "base_uri": "https://localhost:8080/"
    },
    "id": "ru-AjP4kqv_O",
    "outputId": "486ac636-5b5a-475b-c26d-337a58064f3a"
   },
   "outputs": [
    {
     "name": "stdout",
     "output_type": "stream",
     "text": [
      "Accuracy: 0.9736842105263158\n",
      "Precision: 0.974025974025974\n",
      "Recall: 0.9868421052631579\n"
     ]
    }
   ],
   "source": [
    "print(\"Accuracy:\",metrics.accuracy_score(y_test, pred))\n",
    "print(\"Precision:\",metrics.precision_score(y_test, pred))\n",
    "print(\"Recall:\",metrics.recall_score(y_test,pred))"
   ]
  },
  {
   "cell_type": "markdown",
   "metadata": {
    "id": "YWpqIXk9q8lG"
   },
   "source": [
    "SVM With Dimentinality Reduction"
   ]
  },
  {
   "cell_type": "code",
   "execution_count": 16,
   "metadata": {
    "id": "ccckNOBcqxiJ"
   },
   "outputs": [],
   "source": [
    "pca = PCA(n_components=25) \n",
    "pca_fit = pca.fit(dataset.data)"
   ]
  },
  {
   "cell_type": "code",
   "execution_count": 17,
   "metadata": {
    "id": "qCP_rROzrCUG"
   },
   "outputs": [],
   "source": [
    "pca_tran = pca_fit.transform(dataset.data)"
   ]
  },
  {
   "cell_type": "code",
   "execution_count": 18,
   "metadata": {
    "colab": {
     "base_uri": "https://localhost:8080/"
    },
    "id": "Qnk62IF3rDH5",
    "outputId": "e362afb0-8249-4ccc-be7c-07fc85c5eaf8"
   },
   "outputs": [
    {
     "name": "stdout",
     "output_type": "stream",
     "text": [
      "<class 'numpy.ndarray'>\n",
      "<class 'list'>\n"
     ]
    }
   ],
   "source": [
    "column_list=dataset.feature_names\n",
    "print(type(column_list))\n",
    "\n",
    "column_list=list(column_list)\n",
    "print(type(column_list))\n",
    "\n",
    "dataPCA = pd.DataFrame(data = pca_tran, columns = column_list[:25])"
   ]
  },
  {
   "cell_type": "code",
   "execution_count": 19,
   "metadata": {
    "id": "pDx8SZIZrD7A"
   },
   "outputs": [],
   "source": [
    "#roll_number = 60\n",
    "x_tr, x_ts, y_tr, y_ts = train_test_split(dataPCA, dataset.target, test_size = 0.2,random_state=60)"
   ]
  },
  {
   "cell_type": "code",
   "execution_count": 20,
   "metadata": {
    "colab": {
     "base_uri": "https://localhost:8080/"
    },
    "id": "g-N4iBn4rOcp",
    "outputId": "b4ab2a4c-ea84-4fb9-8e8d-8b313e973a8c"
   },
   "outputs": [
    {
     "data": {
      "text/plain": [
       "(455, 25)"
      ]
     },
     "execution_count": 20,
     "metadata": {},
     "output_type": "execute_result"
    }
   ],
   "source": [
    "x_tr.shape"
   ]
  },
  {
   "cell_type": "code",
   "execution_count": 21,
   "metadata": {
    "colab": {
     "base_uri": "https://localhost:8080/"
    },
    "id": "I7GZ9jMrrPcI",
    "outputId": "cd938c3e-ccef-4f8f-9ee3-9f07c2333b88"
   },
   "outputs": [
    {
     "data": {
      "text/plain": [
       "(455,)"
      ]
     },
     "execution_count": 21,
     "metadata": {},
     "output_type": "execute_result"
    }
   ],
   "source": [
    "y_tr.shape"
   ]
  },
  {
   "cell_type": "code",
   "execution_count": 22,
   "metadata": {
    "id": "PTWPQZgErQOB"
   },
   "outputs": [],
   "source": [
    "model1 = svm.SVC(kernel='linear')\n",
    "model1.fit(x_tr,y_tr)\n",
    "pred1 = model1.predict(x_ts)"
   ]
  },
  {
   "cell_type": "code",
   "execution_count": 23,
   "metadata": {
    "colab": {
     "base_uri": "https://localhost:8080/"
    },
    "id": "yqNv_VqTrRDW",
    "outputId": "f0c4eeaa-6bbe-4d9f-c88c-879906b52d5b"
   },
   "outputs": [
    {
     "name": "stdout",
     "output_type": "stream",
     "text": [
      "Accuracy: 0.9736842105263158\n",
      "Precision: 0.974025974025974\n",
      "Recall: 0.9868421052631579\n"
     ]
    }
   ],
   "source": [
    "from sklearn import metrics\n",
    "print(\"Accuracy:\",metrics.accuracy_score(y_ts, pred1))\n",
    "print(\"Precision:\",metrics.precision_score(y_ts, pred1))\n",
    "print(\"Recall:\",metrics.recall_score(y_ts, pred1))"
   ]
  },
  {
   "cell_type": "code",
   "execution_count": null,
   "metadata": {
    "id": "0l-qR_hArSDU"
   },
   "outputs": [],
   "source": []
  },
  {
   "cell_type": "code",
   "execution_count": null,
   "metadata": {},
   "outputs": [],
   "source": []
  }
 ],
 "metadata": {
  "colab": {
   "name": "034_Lab11_Task2",
   "provenance": []
  },
  "kernelspec": {
   "display_name": "Python 3 (ipykernel)",
   "language": "python",
   "name": "python3"
  },
  "language_info": {
   "name": "python"
  }
 },
 "nbformat": 4,
 "nbformat_minor": 1
}
