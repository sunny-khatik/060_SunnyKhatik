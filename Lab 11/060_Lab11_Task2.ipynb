{
  "nbformat": 4,
  "nbformat_minor": 0,
  "metadata": {
    "colab": {
      "name": "060_Lab11_Task2.ipynb",
      "provenance": []
    },
    "kernelspec": {
      "display_name": "Python 3 (ipykernel)",
      "language": "python",
      "name": "python3"
    },
    "language_info": {
      "name": "python"
    }
  },
  "cells": [
    {
      "cell_type": "code",
      "metadata": {
        "id": "ja-kBb8Tp4uv"
      },
      "source": [
        "import numpy as np \n",
        "import matplotlib.pyplot as plt \n",
        "from sklearn.decomposition import PCA \n",
        "import pandas as pd \n",
        "import math \n",
        "import random \n",
        "from sklearn import datasets"
      ],
      "execution_count": 1,
      "outputs": []
    },
    {
      "cell_type": "code",
      "metadata": {
        "id": "wvnLQJRPqovn"
      },
      "source": [
        "dataset = datasets.load_breast_cancer()"
      ],
      "execution_count": 2,
      "outputs": []
    },
    {
      "cell_type": "code",
      "metadata": {
        "colab": {
          "base_uri": "https://localhost:8080/"
        },
        "id": "r-0rW3niqpq6",
        "outputId": "b6d5b38a-d512-4b95-98f1-6616f5251185"
      },
      "source": [
        "dataset.data.shape"
      ],
      "execution_count": 3,
      "outputs": [
        {
          "output_type": "execute_result",
          "data": {
            "text/plain": [
              "(569, 30)"
            ]
          },
          "metadata": {},
          "execution_count": 3
        }
      ]
    },
    {
      "cell_type": "code",
      "metadata": {
        "colab": {
          "base_uri": "https://localhost:8080/"
        },
        "id": "2kcsDLGCqqvN",
        "outputId": "06dff6a6-c9dd-4fa4-f8a4-70a50d8ab3fa"
      },
      "source": [
        "dataset.target.shape"
      ],
      "execution_count": 4,
      "outputs": [
        {
          "output_type": "execute_result",
          "data": {
            "text/plain": [
              "(569,)"
            ]
          },
          "metadata": {},
          "execution_count": 4
        }
      ]
    },
    {
      "cell_type": "code",
      "metadata": {
        "colab": {
          "base_uri": "https://localhost:8080/"
        },
        "id": "dV8xGo1vqrfK",
        "outputId": "cc61103f-17c3-43df-9cc3-d20f7c108c45"
      },
      "source": [
        "dataset.feature_names"
      ],
      "execution_count": 5,
      "outputs": [
        {
          "output_type": "execute_result",
          "data": {
            "text/plain": [
              "array(['mean radius', 'mean texture', 'mean perimeter', 'mean area',\n",
              "       'mean smoothness', 'mean compactness', 'mean concavity',\n",
              "       'mean concave points', 'mean symmetry', 'mean fractal dimension',\n",
              "       'radius error', 'texture error', 'perimeter error', 'area error',\n",
              "       'smoothness error', 'compactness error', 'concavity error',\n",
              "       'concave points error', 'symmetry error',\n",
              "       'fractal dimension error', 'worst radius', 'worst texture',\n",
              "       'worst perimeter', 'worst area', 'worst smoothness',\n",
              "       'worst compactness', 'worst concavity', 'worst concave points',\n",
              "       'worst symmetry', 'worst fractal dimension'], dtype='<U23')"
            ]
          },
          "metadata": {},
          "execution_count": 5
        }
      ]
    },
    {
      "cell_type": "code",
      "metadata": {
        "colab": {
          "base_uri": "https://localhost:8080/"
        },
        "id": "wjm3AvC7qsSu",
        "outputId": "57a03616-95fd-4b43-cf40-6d89e7d735ab"
      },
      "source": [
        "dataset.target_names"
      ],
      "execution_count": 6,
      "outputs": [
        {
          "output_type": "execute_result",
          "data": {
            "text/plain": [
              "array(['malignant', 'benign'], dtype='<U9')"
            ]
          },
          "metadata": {},
          "execution_count": 6
        }
      ]
    },
    {
      "cell_type": "code",
      "metadata": {
        "id": "tPE13n9bqtn2",
        "colab": {
          "base_uri": "https://localhost:8080/"
        },
        "outputId": "cbf499bf-27ca-4ef6-9079-feb624bb1b9e"
      },
      "source": [
        "from sklearn.model_selection import train_test_split\n",
        "# roll_Number = 60\n",
        "x_train, x_test, y_train, y_test = train_test_split(dataset.data, dataset.target, test_size = 0.2,random_state=60)\n",
        "print(\"jdnjbnf\")"
      ],
      "execution_count": 7,
      "outputs": [
        {
          "output_type": "stream",
          "name": "stdout",
          "text": [
            "jdnjbnf\n"
          ]
        }
      ]
    },
    {
      "cell_type": "markdown",
      "metadata": {
        "id": "tmEIrTaWqz2R"
      },
      "source": [
        "SVM Without applying Dimensinality Reduction"
      ]
    },
    {
      "cell_type": "code",
      "metadata": {
        "id": "3MPjOfqlqu02"
      },
      "source": [
        "from sklearn import svm,metrics\n",
        "model = svm.SVC(kernel='linear')\n",
        "model.fit(x_train,y_train)\n",
        "pred = model.predict(x_test)"
      ],
      "execution_count": 8,
      "outputs": []
    },
    {
      "cell_type": "code",
      "metadata": {
        "colab": {
          "base_uri": "https://localhost:8080/"
        },
        "id": "ru-AjP4kqv_O",
        "outputId": "f517faf1-c08a-4178-e7f0-b935c3ce8430"
      },
      "source": [
        "print(\"Accuracy:\",metrics.accuracy_score(y_test, pred))\n",
        "print(\"Precision:\",metrics.precision_score(y_test, pred))\n",
        "print(\"Recall:\",metrics.recall_score(y_test,pred))"
      ],
      "execution_count": 9,
      "outputs": [
        {
          "output_type": "stream",
          "name": "stdout",
          "text": [
            "Accuracy: 0.9736842105263158\n",
            "Precision: 0.9733333333333334\n",
            "Recall: 0.9864864864864865\n"
          ]
        }
      ]
    },
    {
      "cell_type": "markdown",
      "metadata": {
        "id": "YWpqIXk9q8lG"
      },
      "source": [
        "SVM With Dimentinality Reduction"
      ]
    },
    {
      "cell_type": "code",
      "metadata": {
        "id": "ccckNOBcqxiJ"
      },
      "source": [
        "pca = PCA(n_components=25) \n",
        "pca_fit = pca.fit(dataset.data)"
      ],
      "execution_count": 10,
      "outputs": []
    },
    {
      "cell_type": "code",
      "metadata": {
        "id": "qCP_rROzrCUG"
      },
      "source": [
        "pca_tran = pca_fit.transform(dataset.data)"
      ],
      "execution_count": 11,
      "outputs": []
    },
    {
      "cell_type": "code",
      "metadata": {
        "colab": {
          "base_uri": "https://localhost:8080/"
        },
        "id": "Qnk62IF3rDH5",
        "outputId": "71ee6786-c5c5-4844-ca53-77c7ba2c1a4d"
      },
      "source": [
        "column_list=dataset.feature_names\n",
        "print(type(column_list))\n",
        "\n",
        "column_list=list(column_list)\n",
        "print(type(column_list))\n",
        "\n",
        "dataPCA = pd.DataFrame(data = pca_tran, columns = column_list[:25])"
      ],
      "execution_count": 12,
      "outputs": [
        {
          "output_type": "stream",
          "name": "stdout",
          "text": [
            "<class 'numpy.ndarray'>\n",
            "<class 'list'>\n"
          ]
        }
      ]
    },
    {
      "cell_type": "code",
      "metadata": {
        "id": "pDx8SZIZrD7A"
      },
      "source": [
        "#roll_number = 60\n",
        "x_tr, x_ts, y_tr, y_ts = train_test_split(dataPCA, dataset.target, test_size = 0.2,random_state=60)"
      ],
      "execution_count": 13,
      "outputs": []
    },
    {
      "cell_type": "code",
      "metadata": {
        "colab": {
          "base_uri": "https://localhost:8080/"
        },
        "id": "g-N4iBn4rOcp",
        "outputId": "124e7444-3411-4ff5-aabc-2c5ef339c851"
      },
      "source": [
        "x_tr.shape"
      ],
      "execution_count": 14,
      "outputs": [
        {
          "output_type": "execute_result",
          "data": {
            "text/plain": [
              "(455, 25)"
            ]
          },
          "metadata": {},
          "execution_count": 14
        }
      ]
    },
    {
      "cell_type": "code",
      "metadata": {
        "colab": {
          "base_uri": "https://localhost:8080/"
        },
        "id": "I7GZ9jMrrPcI",
        "outputId": "7ad0fe01-2d64-40ba-da18-c877a028db86"
      },
      "source": [
        "y_tr.shape"
      ],
      "execution_count": 15,
      "outputs": [
        {
          "output_type": "execute_result",
          "data": {
            "text/plain": [
              "(455,)"
            ]
          },
          "metadata": {},
          "execution_count": 15
        }
      ]
    },
    {
      "cell_type": "code",
      "metadata": {
        "id": "PTWPQZgErQOB"
      },
      "source": [
        "model1 = svm.SVC(kernel='linear')\n",
        "model1.fit(x_tr,y_tr)\n",
        "pred1 = model1.predict(x_ts)"
      ],
      "execution_count": 16,
      "outputs": []
    },
    {
      "cell_type": "code",
      "metadata": {
        "colab": {
          "base_uri": "https://localhost:8080/"
        },
        "id": "yqNv_VqTrRDW",
        "outputId": "65ff23cd-7149-442c-f1cf-e5c0abf02a23"
      },
      "source": [
        "from sklearn import metrics\n",
        "print(\"Accuracy:\",metrics.accuracy_score(y_ts, pred1))\n",
        "print(\"Precision:\",metrics.precision_score(y_ts, pred1))\n",
        "print(\"Recall:\",metrics.recall_score(y_ts, pred1))"
      ],
      "execution_count": 17,
      "outputs": [
        {
          "output_type": "stream",
          "name": "stdout",
          "text": [
            "Accuracy: 0.9736842105263158\n",
            "Precision: 0.9733333333333334\n",
            "Recall: 0.9864864864864865\n"
          ]
        }
      ]
    },
    {
      "cell_type": "code",
      "metadata": {
        "id": "0l-qR_hArSDU"
      },
      "source": [
        ""
      ],
      "execution_count": 17,
      "outputs": []
    },
    {
      "cell_type": "code",
      "metadata": {
        "id": "ag9mIfDMoFA8"
      },
      "source": [
        ""
      ],
      "execution_count": 17,
      "outputs": []
    }
  ]
}