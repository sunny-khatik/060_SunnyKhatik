{
  "nbformat": 4,
  "nbformat_minor": 5,
  "metadata": {
    "kernelspec": {
      "display_name": "Python 3 (ipykernel)",
      "language": "python",
      "name": "python3"
    },
    "language_info": {
      "codemirror_mode": {
        "name": "ipython",
        "version": 3
      },
      "file_extension": ".py",
      "mimetype": "text/x-python",
      "name": "python",
      "nbconvert_exporter": "python",
      "pygments_lexer": "ipython3",
      "version": "3.9.7"
    },
    "colab": {
      "name": "Exercise-1.ipynb",
      "provenance": []
    }
  },
  "cells": [
    {
      "cell_type": "code",
      "metadata": {
        "id": "db963459-c72d-453d-8699-0dc38b81d114"
      },
      "source": [
        "import numpy as np\n",
        "import matplotlib.pyplot as plt  \n",
        "from sklearn.datasets import load_boston   #for loading the toy datasets to check our code"
      ],
      "id": "db963459-c72d-453d-8699-0dc38b81d114",
      "execution_count": 8,
      "outputs": []
    },
    {
      "cell_type": "code",
      "metadata": {
        "colab": {
          "base_uri": "https://localhost:8080/"
        },
        "id": "f0a909f9-3e07-4b9a-9984-e7d2ef0850cc",
        "outputId": "1cd40855-f3b4-4714-b346-a27a7f3ad6c9"
      },
      "source": [
        "#load_boston() returns the regression dataset\n",
        "dataset = load_boston()\n",
        "#dataset.data gives the features\n",
        "x = dataset.data\n",
        "y = dataset.target[:,np.newaxis]\n",
        "\n",
        "print(\"Total Number of Samples in our dataset is: {}\".format(x.shape[0]))"
      ],
      "id": "f0a909f9-3e07-4b9a-9984-e7d2ef0850cc",
      "execution_count": 10,
      "outputs": [
        {
          "output_type": "stream",
          "name": "stdout",
          "text": [
            "Total Number of Samples in our dataset is: 506\n"
          ]
        }
      ]
    },
    {
      "cell_type": "code",
      "metadata": {
        "id": "4caa44a5-87b6-4d56-8cc9-717d9aaf867c"
      },
      "source": [
        "def compute_cost(x, y, params):\n",
        "    number_of_samples = len(y)\n",
        "    h = x @ params\n",
        "    return (1/(2*number_of_samples))*np.sum((h-y)**2)\n"
      ],
      "id": "4caa44a5-87b6-4d56-8cc9-717d9aaf867c",
      "execution_count": 11,
      "outputs": []
    },
    {
      "cell_type": "code",
      "metadata": {
        "id": "337bce6b-f85b-400d-9b98-968d3c089240"
      },
      "source": [
        "def gradient_descent(X, y, params, learning_rate, n_iters):\n",
        "    number_of_samples = len(y)\n",
        "    J_history = np.zeros((n_iters,1))\n",
        "\n",
        "    for i in range(n_iters):\n",
        "        params = params - (learning_rate/number_of_samples) * x.T @ (x @ params - y) \n",
        "        J_history[i] = compute_cost(x, y, params)\n",
        "\n",
        "    return (J_history, params)\n"
      ],
      "id": "337bce6b-f85b-400d-9b98-968d3c089240",
      "execution_count": 12,
      "outputs": []
    },
    {
      "cell_type": "code",
      "metadata": {
        "id": "6b3b73fc-565e-47d8-af3b-da13b20212fc"
      },
      "source": [
        "number_of_samples = len(y)\n",
        "\n",
        "mu = np.mean(x, 0)\n",
        "sigma = np.std(x, 0)\n",
        "\n",
        "x = (x-mu) / sigma\n",
        "\n",
        "x = np.hstack((np.ones((number_of_samples,1)),x))\n",
        "n_features = np.size(X,1)\n",
        "params = np.zeros((n_features,1))"
      ],
      "id": "6b3b73fc-565e-47d8-af3b-da13b20212fc",
      "execution_count": 13,
      "outputs": []
    },
    {
      "cell_type": "code",
      "metadata": {
        "colab": {
          "base_uri": "https://localhost:8080/"
        },
        "id": "426ee78f-36b9-4909-82fe-c3ef7004092b",
        "outputId": "654a6767-e1d7-4d73-be42-486a8fde1ff9"
      },
      "source": [
        "n_iters = 1500\n",
        "learning_rate = 0.01\n",
        "\n",
        "initial_cost = compute_cost(x, y, params)\n",
        "\n",
        "print(\"Initial cost --> \", initial_cost, \"\\n\")\n",
        "\n",
        "(J_history, optimal_params) = gradient_descent(X, y, params, learning_rate, n_iters)\n",
        "\n",
        "print(\"|-- Optimal parameters --| \\n\", optimal_params, \"\\n\")\n",
        "\n",
        "print(\"Final cost --> \", J_history[-1])"
      ],
      "id": "426ee78f-36b9-4909-82fe-c3ef7004092b",
      "execution_count": 14,
      "outputs": [
        {
          "output_type": "stream",
          "name": "stdout",
          "text": [
            "Initial cost -->  296.0734584980237 \n",
            "\n",
            "|-- Optimal parameters --| \n",
            " [[22.53279993]\n",
            " [-0.83980839]\n",
            " [ 0.92612237]\n",
            " [-0.17541988]\n",
            " [ 0.72676226]\n",
            " [-1.82369448]\n",
            " [ 2.78447498]\n",
            " [-0.05650494]\n",
            " [-2.96695543]\n",
            " [ 1.80785186]\n",
            " [-1.1802415 ]\n",
            " [-1.99990382]\n",
            " [ 0.85595908]\n",
            " [-3.69524414]] \n",
            "\n",
            "Final cost -->  [11.00713381]\n"
          ]
        }
      ]
    },
    {
      "cell_type": "code",
      "metadata": {
        "colab": {
          "base_uri": "https://localhost:8080/",
          "height": 295
        },
        "id": "34004987-c9c4-40b7-9478-87c636d66f0f",
        "outputId": "b0f134e4-de6b-438a-f52a-3bf33ef9f3d0"
      },
      "source": [
        "plt.plot(range(len(J_history)), J_history, 'r')\n",
        "\n",
        "plt.title(\"Convergence Graph : Cost Function\")\n",
        "plt.xlabel(\"Iterations\")\n",
        "plt.ylabel(\"Cost\")\n",
        "plt.show()"
      ],
      "id": "34004987-c9c4-40b7-9478-87c636d66f0f",
      "execution_count": 16,
      "outputs": [
        {
          "output_type": "display_data",
          "data": {
            "image/png": "[encoded data removed]",
            "text/plain": [
              "<Figure size 432x288 with 1 Axes>"
            ]
          },
          "metadata": {
            "needs_background": "light"
          }
        }
      ]
    },
    {
      "cell_type": "code",
      "metadata": {
        "id": "c5f06c95-260b-43af-9427-818b795e59fc"
      },
      "source": [
        ""
      ],
      "id": "c5f06c95-260b-43af-9427-818b795e59fc",
      "execution_count": 7,
      "outputs": []
    }
  ]
}