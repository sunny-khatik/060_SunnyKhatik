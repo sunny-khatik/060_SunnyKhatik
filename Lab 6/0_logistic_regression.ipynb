{
  "nbformat": 4,
  "nbformat_minor": 0,
  "metadata": {
    "colab": {
      "name": "0_logistic_regression.ipynb",
      "provenance": []
    },
    "kernelspec": {
      "display_name": "Python 3 (ipykernel)",
      "language": "python",
      "name": "python3"
    },
    "language_info": {
      "codemirror_mode": {
        "name": "ipython",
        "version": 3
      },
      "file_extension": ".py",
      "mimetype": "text/x-python",
      "name": "python",
      "nbconvert_exporter": "python",
      "pygments_lexer": "ipython3",
      "version": "3.9.7"
    }
  },
  "cells": [
    {
      "cell_type": "code",
      "metadata": {
        "_cell_guid": "b1076dfc-b9ad-4769-8c92-a6c4dae69d19",
        "_uuid": "8f2839f25d086af736a60e9eeb907d3b93b6e0e5",
        "colab": {
          "base_uri": "https://localhost:8080/"
        },
        "id": "hfV503AtcBDp",
        "outputId": "680e2d51-5ebf-40c4-ed6b-13bb1bb3a212"
      },
      "source": [
        "#Importing libraries\n",
        "import numpy as np \n",
        "import pandas as pd \n",
        "import io\n",
        "import matplotlib.pyplot as plt\n",
        "\n",
        "import os\n",
        "path=os.getcwd()\n",
        "print(path)"
      ],
      "execution_count": 11,
      "outputs": [
        {
          "output_type": "stream",
          "name": "stdout",
          "text": [
            "/content\n"
          ]
        }
      ]
    },
    {
      "cell_type": "code",
      "metadata": {
        "_cell_guid": "79c7e3d0-c299-4dcb-8224-4455121ee9b0",
        "_uuid": "d629ff2d2480ee46fbb7e2d37f6b5fab8052498a",
        "colab": {
          "base_uri": "https://localhost:8080/"
        },
        "id": "Y4rK9ffYcBEP",
        "outputId": "59870851-ec9e-40a3-f894-68b2514bbdba"
      },
      "source": [
        "# reading the csv file, del 2 columns from the file, checking first few rows of the file\n",
        "data = pd.read_csv('/content/BuyComputer.csv')\n",
        "\n",
        "data.drop(columns=['User ID',],axis=1,inplace=True)\n",
        "data.head()\n",
        "print(data)"
      ],
      "execution_count": 12,
      "outputs": [
        {
          "output_type": "stream",
          "name": "stdout",
          "text": [
            "     Age  EstimatedSalary  Purchased\n",
            "0     19            19000          0\n",
            "1     35            20000          0\n",
            "2     26            43000          0\n",
            "3     27            57000          0\n",
            "4     19            76000          0\n",
            "..   ...              ...        ...\n",
            "395   46            41000          1\n",
            "396   51            23000          1\n",
            "397   50            20000          1\n",
            "398   36            33000          0\n",
            "399   49            36000          1\n",
            "\n",
            "[400 rows x 3 columns]\n"
          ]
        }
      ]
    },
    {
      "cell_type": "code",
      "metadata": {
        "_uuid": "4cb45e28344e7e245ab398e9f4f5272ef21d2129",
        "id": "jwuPgU6_cBE8"
      },
      "source": [
        "#Declare label as last column in the source file\n",
        "y = data.iloc[:,-1].values"
      ],
      "execution_count": 13,
      "outputs": []
    },
    {
      "cell_type": "code",
      "metadata": {
        "_uuid": "2e7a145fa49435ad9578ec2827f76a70cc99f2e1",
        "id": "2lhBrOp8cBFX"
      },
      "source": [
        "#Declaring X as all columns excluding last\n",
        "X = data.iloc[:,:-1].values"
      ],
      "execution_count": 14,
      "outputs": []
    },
    {
      "cell_type": "code",
      "metadata": {
        "_uuid": "dffb1f3e19e19964995ac827bf55108b5815ff67",
        "id": "t8nwbTn6cBFp"
      },
      "source": [
        "# Splitting data\n",
        "from sklearn.model_selection import train_test_split\n",
        "X_train, X_test, y_train, y_test = train_test_split(X, y, test_size = 0.25, random_state = 0)"
      ],
      "execution_count": 15,
      "outputs": []
    },
    {
      "cell_type": "code",
      "metadata": {
        "_uuid": "7d4ed14782e114ae3282f20d3754121398e6d232",
        "id": "U4bUiVVFcBGD"
      },
      "source": [
        "# Sacaling data\n",
        "from sklearn.preprocessing import StandardScaler\n",
        "sc = StandardScaler()\n",
        "X_train = sc.fit_transform(X_train)\n",
        "X_test = sc.transform(X_test)"
      ],
      "execution_count": 16,
      "outputs": []
    },
    {
      "cell_type": "code",
      "metadata": {
        "_uuid": "2ff7415e3e0e0673d59051cfe6154c63d3312a32",
        "colab": {
          "base_uri": "https://localhost:8080/"
        },
        "id": "W5yGgzqbcBGc",
        "outputId": "dd1d7d97-b7f2-47f0-fe8c-97a59cf4bee6"
      },
      "source": [
        "#Variabes to calculate sigmoid function\n",
        "y_pred = []\n",
        "len_x = len(X_train[0])\n",
        "w = []\n",
        "b = 0.2\n",
        "print(len_x)"
      ],
      "execution_count": 17,
      "outputs": [
        {
          "output_type": "stream",
          "name": "stdout",
          "text": [
            "2\n"
          ]
        }
      ]
    },
    {
      "cell_type": "code",
      "metadata": {
        "_uuid": "a228174207f4631be4f26a0cc05e379f3f58aa56",
        "colab": {
          "base_uri": "https://localhost:8080/"
        },
        "id": "ZbqwTM0bcBGr",
        "outputId": "f1e9f68d-8498-43fc-dcf2-7b0dd6837b34"
      },
      "source": [
        "entries = len(X_train[:,0])\n",
        "entries"
      ],
      "execution_count": 18,
      "outputs": [
        {
          "output_type": "execute_result",
          "data": {
            "text/plain": [
              "300"
            ]
          },
          "metadata": {},
          "execution_count": 18
        }
      ]
    },
    {
      "cell_type": "code",
      "metadata": {
        "_uuid": "5d4d6e47ee65c9c7404e60fcf8f05c11708546b3",
        "colab": {
          "base_uri": "https://localhost:8080/"
        },
        "id": "vEV7Nn73cBG7",
        "outputId": "67c4463c-5e70-4565-c152-fc445c28107d"
      },
      "source": [
        "for weights in range(len_x):\n",
        "    w.append(0)\n",
        "w"
      ],
      "execution_count": 19,
      "outputs": [
        {
          "output_type": "execute_result",
          "data": {
            "text/plain": [
              "[0, 0]"
            ]
          },
          "metadata": {},
          "execution_count": 19
        }
      ]
    },
    {
      "cell_type": "code",
      "metadata": {
        "_uuid": "18dbd2196d72527a82d30ab88ed2aa8d10bd01ce",
        "id": "_fAtpylNcBHM"
      },
      "source": [
        "# Sigmoid function\n",
        "def sigmoid(z):\n",
        " return (1/(1+np.exp(-z)))"
      ],
      "execution_count": 20,
      "outputs": []
    },
    {
      "cell_type": "code",
      "metadata": {
        "_uuid": "daa0f87fdbf98591cb9f51b8dc7157dc399ca827",
        "id": "kfchkScTcBHd"
      },
      "source": [
        "\n",
        "def predict(inputs):\n",
        "    z = np.dot(w,inputs)+b\n",
        "    a = sigmoid(z)\n",
        "    return a"
      ],
      "execution_count": 21,
      "outputs": []
    },
    {
      "cell_type": "code",
      "metadata": {
        "_uuid": "4126f842d072ccd40019cc283b767a014e2ee074",
        "id": "K2ryTgglcBHt"
      },
      "source": [
        "#Loss function\n",
        "def loss_func(y,a):\n",
        "    J = -(y*np.log(a) + (1-y)*np.log(1-a))\n",
        "    return J         "
      ],
      "execution_count": 22,
      "outputs": []
    },
    {
      "cell_type": "code",
      "metadata": {
        "_uuid": "fc0ceb65c69f4ee0c3f28e050744229dc90c621b",
        "id": "1KW3eDpmcBIA"
      },
      "source": [
        "dw = []\n",
        "db = 0\n",
        "J = 0\n",
        "alpha = 0.1\n",
        "for x in range(len_x):\n",
        "    dw.append(0)"
      ],
      "execution_count": 23,
      "outputs": []
    },
    {
      "cell_type": "code",
      "metadata": {
        "_uuid": "e4be38e9b500ae0c5a7134296a3055675c4fb2d8",
        "id": "ipqdFLP3cBIO"
      },
      "source": [
        "#Repeating the process 3000 times\n",
        "for iterations in range(3000):\n",
        "    for i in range(entries):\n",
        "        localx = X_train[i]\n",
        "        a = predict(localx)   \n",
        "        dz = a - y_train[i]\n",
        "        J += loss_func(y_train[i],a)\n",
        "        for j in range(len_x):\n",
        "            dw[j] = dw[j]+(localx[j]*dz)\n",
        "        db += dz\n",
        "    J = J/entries\n",
        "    db = db/entries\n",
        "    for x in range(len_x):\n",
        "        dw[x]=dw[x]/entries\n",
        "    for x in range(len_x):\n",
        "        w[x] = w[x]-(alpha*dw[x])\n",
        "    b = b-(alpha*db)         \n",
        "    J=0"
      ],
      "execution_count": 24,
      "outputs": []
    },
    {
      "cell_type": "code",
      "metadata": {
        "_uuid": "5479ccb6073ed1ea310ef7de01b2935fc3ec400e",
        "colab": {
          "base_uri": "https://localhost:8080/"
        },
        "id": "7Q585AdrcBIs",
        "outputId": "ddfc826e-6e88-4f4e-9239-44f04551a265"
      },
      "source": [
        "#Print weight\n",
        "print(w)"
      ],
      "execution_count": 25,
      "outputs": [
        {
          "output_type": "stream",
          "name": "stdout",
          "text": [
            "[2.266627096644834, 1.2133988920991177]\n"
          ]
        }
      ]
    },
    {
      "cell_type": "code",
      "metadata": {
        "_uuid": "a939c247b8a092f74c9843975612daa85c423621",
        "colab": {
          "base_uri": "https://localhost:8080/"
        },
        "id": "rEiF-bNHcBJB",
        "outputId": "6f0b76c9-ecc8-43be-e472-ddaa0737175f"
      },
      "source": [
        "#print bias\n",
        "print(b)"
      ],
      "execution_count": 26,
      "outputs": [
        {
          "output_type": "stream",
          "name": "stdout",
          "text": [
            "-1.0033198622205273\n"
          ]
        }
      ]
    },
    {
      "cell_type": "code",
      "metadata": {
        "_uuid": "b7ae24169a21c7ac8ea0787f4a38a0de3e07a6b5",
        "id": "MPt5nUcpcBJR"
      },
      "source": [
        "#predicting the label\n",
        "for x in range(len(y_test)):\n",
        "    y_pred.append(predict(X_test[x]))"
      ],
      "execution_count": 27,
      "outputs": []
    },
    {
      "cell_type": "code",
      "metadata": {
        "_uuid": "967ad1b72305ad792a5d50e4d8b8a07632f7b241",
        "colab": {
          "base_uri": "https://localhost:8080/"
        },
        "id": "79HPPz7jcBJg",
        "outputId": "4312dc68-2472-4a33-ef1e-56bb55204ead"
      },
      "source": [
        "#print actual and predicted values in a table\n",
        "for x in range(len(y_pred)):\n",
        "    print('Actual ',y_test[x],' Predicted ',y_pred[x])\n",
        "    if y_pred[x]>=0.5:\n",
        "        y_pred[x]=1\n",
        "    else:\n",
        "        y_pred[x]=0"
      ],
      "execution_count": 28,
      "outputs": [
        {
          "output_type": "stream",
          "name": "stdout",
          "text": [
            "Actual  0  Predicted  0.09843076115131567\n",
            "Actual  0  Predicted  0.1517811284088404\n",
            "Actual  0  Predicted  0.18025799777186358\n",
            "Actual  0  Predicted  0.07612321283685346\n",
            "Actual  0  Predicted  0.08362319263501114\n",
            "Actual  0  Predicted  0.005244757459423226\n",
            "Actual  0  Predicted  0.010736705720865828\n",
            "Actual  1  Predicted  0.7571846465776525\n",
            "Actual  0  Predicted  0.0037702429043285973\n",
            "Actual  0  Predicted  0.5133123024542366\n",
            "Actual  0  Predicted  0.027878285373762295\n",
            "Actual  0  Predicted  0.022107348858507417\n",
            "Actual  0  Predicted  0.14563349433194717\n",
            "Actual  0  Predicted  0.3667085719861816\n",
            "Actual  0  Predicted  0.011045167913263416\n",
            "Actual  0  Predicted  0.3295021474659969\n",
            "Actual  0  Predicted  0.26986617790598905\n",
            "Actual  0  Predicted  0.008540952910839538\n",
            "Actual  1  Predicted  0.9926792656290475\n",
            "Actual  0  Predicted  0.032953353363915645\n",
            "Actual  0  Predicted  0.0758828964627684\n",
            "Actual  1  Predicted  0.9735699212064882\n",
            "Actual  0  Predicted  0.2665668596254484\n",
            "Actual  1  Predicted  0.9032996425597184\n",
            "Actual  0  Predicted  0.002838314642442283\n",
            "Actual  1  Predicted  0.9811065278196829\n",
            "Actual  0  Predicted  0.06514829043310788\n",
            "Actual  0  Predicted  0.06383354823289862\n",
            "Actual  0  Predicted  0.17901938963366146\n",
            "Actual  0  Predicted  0.14172629618825267\n",
            "Actual  0  Predicted  0.014776565578916424\n",
            "Actual  1  Predicted  0.2839521739036161\n",
            "Actual  1  Predicted  0.9476492373553493\n",
            "Actual  0  Predicted  0.13709534040271115\n",
            "Actual  0  Predicted  0.010132471763149317\n",
            "Actual  0  Predicted  0.0021508854917023945\n",
            "Actual  0  Predicted  0.014462636818899822\n",
            "Actual  0  Predicted  0.05391938770302697\n",
            "Actual  0  Predicted  0.02073726858252948\n",
            "Actual  1  Predicted  0.5636376082168567\n",
            "Actual  0  Predicted  0.05452589388238874\n",
            "Actual  0  Predicted  0.2735011446322335\n",
            "Actual  0  Predicted  0.04770985460145523\n",
            "Actual  0  Predicted  0.030783350148108412\n",
            "Actual  1  Predicted  0.8296038409244851\n",
            "Actual  0  Predicted  0.019677258594989748\n",
            "Actual  0  Predicted  0.2911591738467413\n",
            "Actual  1  Predicted  0.9442271433668677\n",
            "Actual  0  Predicted  0.005952732375299121\n",
            "Actual  1  Predicted  0.8823579091691907\n",
            "Actual  1  Predicted  0.9938012732838276\n",
            "Actual  0  Predicted  0.029366848707661306\n",
            "Actual  0  Predicted  0.10453277205657036\n",
            "Actual  0  Predicted  0.4177881869590674\n",
            "Actual  1  Predicted  0.9870036254435981\n",
            "Actual  1  Predicted  0.3137470249429792\n",
            "Actual  0  Predicted  0.07043845550073324\n",
            "Actual  0  Predicted  0.03360421447487575\n",
            "Actual  1  Predicted  0.49362445636194197\n",
            "Actual  0  Predicted  0.0021435534554726794\n",
            "Actual  0  Predicted  0.014872132753936368\n",
            "Actual  1  Predicted  0.9496062858319856\n",
            "Actual  0  Predicted  0.006237447211758771\n",
            "Actual  1  Predicted  0.3903585432057082\n",
            "Actual  0  Predicted  0.0010797561132450527\n",
            "Actual  1  Predicted  0.9876121171270682\n",
            "Actual  0  Predicted  0.029562563660818383\n",
            "Actual  0  Predicted  0.019677258594989748\n",
            "Actual  0  Predicted  0.20144273478419095\n",
            "Actual  0  Predicted  0.47023089254765926\n",
            "Actual  1  Predicted  0.6107606233061442\n",
            "Actual  0  Predicted  0.19088961639769686\n",
            "Actual  0  Predicted  0.007730179629221245\n",
            "Actual  1  Predicted  0.2433386300835364\n",
            "Actual  0  Predicted  0.056368217635559846\n",
            "Actual  0  Predicted  0.0061550091963579225\n",
            "Actual  0  Predicted  0.5491915619701433\n",
            "Actual  0  Predicted  0.28496639125941087\n",
            "Actual  1  Predicted  0.7471471954550547\n",
            "Actual  1  Predicted  0.9092736059947493\n",
            "Actual  1  Predicted  0.9977070672157531\n",
            "Actual  0  Predicted  0.9845427935022314\n",
            "Actual  0  Predicted  0.009126843915469522\n",
            "Actual  0  Predicted  0.0070894474580548315\n",
            "Actual  1  Predicted  0.9126573515289954\n",
            "Actual  1  Predicted  0.557885552457631\n",
            "Actual  0  Predicted  0.4031746780222683\n",
            "Actual  1  Predicted  0.9970042897633914\n",
            "Actual  1  Predicted  0.43990000512262634\n",
            "Actual  0  Predicted  0.3328131080318536\n",
            "Actual  0  Predicted  0.41816789213889394\n",
            "Actual  1  Predicted  0.8072338392605718\n",
            "Actual  0  Predicted  0.005719730096136826\n",
            "Actual  0  Predicted  0.005288790542059983\n",
            "Actual  0  Predicted  0.024912941266310645\n",
            "Actual  1  Predicted  0.07099077009920665\n",
            "Actual  0  Predicted  0.009656756415313682\n",
            "Actual  1  Predicted  0.48149058652737164\n",
            "Actual  1  Predicted  0.8733824792418644\n",
            "Actual  1  Predicted  0.7459089799188053\n"
          ]
        }
      ]
    },
    {
      "cell_type": "code",
      "metadata": {
        "_uuid": "a59807150900082ab876ef0200c6c7f8f93e098c",
        "colab": {
          "base_uri": "https://localhost:8080/"
        },
        "id": "sdZDj_iVcBJt",
        "outputId": "9d392d4a-5cb2-495c-b3fc-6cffecffa615"
      },
      "source": [
        "# Calculating accuracy of prediction\n",
        "count = 0\n",
        "for x in range(len(y_pred)):\n",
        "    if(y_pred[x]==y_test[x]):\n",
        "        count=count+1\n",
        "print('Accuracy:',(count/(len(y_pred)))*100)"
      ],
      "execution_count": 29,
      "outputs": [
        {
          "output_type": "stream",
          "name": "stdout",
          "text": [
            "Accuracy: 89.0\n"
          ]
        }
      ]
    },
    {
      "cell_type": "markdown",
      "metadata": {
        "id": "x6nmajpzhAEn"
      },
      "source": [
        "#Using sklearn LogisticRegression model"
      ]
    },
    {
      "cell_type": "code",
      "metadata": {
        "_kg_hide-output": true,
        "_uuid": "9aaade066015e04f20dd7eb1d37339be75ca3836",
        "colab": {
          "base_uri": "https://localhost:8080/"
        },
        "id": "iG-BK4i9cBKH",
        "outputId": "05a11ac4-0778-4d08-a080-1e6345c83513"
      },
      "source": [
        "# Fitting Logistic Regression to the Training set\n",
        "from sklearn.linear_model import LogisticRegression\n",
        "LR = LogisticRegression(random_state = 0)\n",
        "\n",
        "#Fit\n",
        "LR.fit(X_train, y_train)\n",
        "#predicting the test label with LR. Predict always takes X as input\n",
        "y_predLR=LR.predict(X_test)\n",
        "for x in range(len(y_pred)):\n",
        "    print('Actual ',y_test[x],' Predicted ',y_predLR[x])\n",
        "    if y_predLR[x]>=0.5:\n",
        "        y_predLR[x]=1\n",
        "    else:\n",
        "        y_predLR[x]=0\n",
        "\n",
        "count = 0\n",
        "for x in range(len(y_pred)):\n",
        "    if(y_pred[x]==y_test[x]):\n",
        "        count=count+1\n",
        "print('Accuracy:',(count/(len(y_pred)))*100)\n"
      ],
      "execution_count": 30,
      "outputs": [
        {
          "output_type": "stream",
          "name": "stdout",
          "text": [
            "Actual  0  Predicted  0\n",
            "Actual  0  Predicted  0\n",
            "Actual  0  Predicted  0\n",
            "Actual  0  Predicted  0\n",
            "Actual  0  Predicted  0\n",
            "Actual  0  Predicted  0\n",
            "Actual  0  Predicted  0\n",
            "Actual  1  Predicted  1\n",
            "Actual  0  Predicted  0\n",
            "Actual  0  Predicted  1\n",
            "Actual  0  Predicted  0\n",
            "Actual  0  Predicted  0\n",
            "Actual  0  Predicted  0\n",
            "Actual  0  Predicted  0\n",
            "Actual  0  Predicted  0\n",
            "Actual  0  Predicted  0\n",
            "Actual  0  Predicted  0\n",
            "Actual  0  Predicted  0\n",
            "Actual  1  Predicted  1\n",
            "Actual  0  Predicted  0\n",
            "Actual  0  Predicted  0\n",
            "Actual  1  Predicted  1\n",
            "Actual  0  Predicted  0\n",
            "Actual  1  Predicted  1\n",
            "Actual  0  Predicted  0\n",
            "Actual  1  Predicted  1\n",
            "Actual  0  Predicted  0\n",
            "Actual  0  Predicted  0\n",
            "Actual  0  Predicted  0\n",
            "Actual  0  Predicted  0\n",
            "Actual  0  Predicted  0\n",
            "Actual  1  Predicted  0\n",
            "Actual  1  Predicted  1\n",
            "Actual  0  Predicted  0\n",
            "Actual  0  Predicted  0\n",
            "Actual  0  Predicted  0\n",
            "Actual  0  Predicted  0\n",
            "Actual  0  Predicted  0\n",
            "Actual  0  Predicted  0\n",
            "Actual  1  Predicted  1\n",
            "Actual  0  Predicted  0\n",
            "Actual  0  Predicted  0\n",
            "Actual  0  Predicted  0\n",
            "Actual  0  Predicted  0\n",
            "Actual  1  Predicted  1\n",
            "Actual  0  Predicted  0\n",
            "Actual  0  Predicted  0\n",
            "Actual  1  Predicted  1\n",
            "Actual  0  Predicted  0\n",
            "Actual  1  Predicted  1\n",
            "Actual  1  Predicted  1\n",
            "Actual  0  Predicted  0\n",
            "Actual  0  Predicted  0\n",
            "Actual  0  Predicted  0\n",
            "Actual  1  Predicted  1\n",
            "Actual  1  Predicted  0\n",
            "Actual  0  Predicted  0\n",
            "Actual  0  Predicted  0\n",
            "Actual  1  Predicted  0\n",
            "Actual  0  Predicted  0\n",
            "Actual  0  Predicted  0\n",
            "Actual  1  Predicted  1\n",
            "Actual  0  Predicted  0\n",
            "Actual  1  Predicted  0\n",
            "Actual  0  Predicted  0\n",
            "Actual  1  Predicted  1\n",
            "Actual  0  Predicted  0\n",
            "Actual  0  Predicted  0\n",
            "Actual  0  Predicted  0\n",
            "Actual  0  Predicted  0\n",
            "Actual  1  Predicted  1\n",
            "Actual  0  Predicted  0\n",
            "Actual  0  Predicted  0\n",
            "Actual  1  Predicted  0\n",
            "Actual  0  Predicted  0\n",
            "Actual  0  Predicted  0\n",
            "Actual  0  Predicted  1\n",
            "Actual  0  Predicted  0\n",
            "Actual  1  Predicted  1\n",
            "Actual  1  Predicted  1\n",
            "Actual  1  Predicted  1\n",
            "Actual  0  Predicted  1\n",
            "Actual  0  Predicted  0\n",
            "Actual  0  Predicted  0\n",
            "Actual  1  Predicted  1\n",
            "Actual  1  Predicted  1\n",
            "Actual  0  Predicted  0\n",
            "Actual  1  Predicted  1\n",
            "Actual  1  Predicted  0\n",
            "Actual  0  Predicted  0\n",
            "Actual  0  Predicted  0\n",
            "Actual  1  Predicted  1\n",
            "Actual  0  Predicted  0\n",
            "Actual  0  Predicted  0\n",
            "Actual  0  Predicted  0\n",
            "Actual  1  Predicted  0\n",
            "Actual  0  Predicted  0\n",
            "Actual  1  Predicted  0\n",
            "Actual  1  Predicted  1\n",
            "Actual  1  Predicted  1\n",
            "Accuracy: 89.0\n"
          ]
        }
      ]
    },
    {
      "cell_type": "code",
      "metadata": {
        "colab": {
          "base_uri": "https://localhost:8080/"
        },
        "id": "pDP32fbNMTbH",
        "outputId": "1b6c8939-0aae-4cbc-b2d2-2fd65eefe14e"
      },
      "source": [
        "#Exercise Problem\n",
        "\n",
        "# Fitting Logistic Regression to the Training set\n",
        "from sklearn.linear_model import LogisticRegression\n",
        "LR = LogisticRegression(random_state = 69)\n",
        "\n",
        "#Fit\n",
        "LR.fit(X_train, y_train)\n",
        "#predicting the test label with LR. Predict always takes X as input\n",
        "y_predLR=LR.predict(X_test)\n",
        "for x in range(len(y_pred)):\n",
        "    print('Actual ',y_test[x],' Predicted ',y_predLR[x])\n",
        "    if y_predLR[x]>=0.5:\n",
        "        y_predLR[x]=1\n",
        "    else:\n",
        "        y_predLR[x]=0\n",
        "\n",
        "count = 0\n",
        "for x in range(len(y_pred)):\n",
        "    if(y_pred[x]==y_test[x]):\n",
        "        count=count+1\n",
        "print('Accuracy:',(count/(len(y_pred)))*100)"
      ],
      "execution_count": 31,
      "outputs": [
        {
          "output_type": "stream",
          "name": "stdout",
          "text": [
            "Actual  0  Predicted  0\n",
            "Actual  0  Predicted  0\n",
            "Actual  0  Predicted  0\n",
            "Actual  0  Predicted  0\n",
            "Actual  0  Predicted  0\n",
            "Actual  0  Predicted  0\n",
            "Actual  0  Predicted  0\n",
            "Actual  1  Predicted  1\n",
            "Actual  0  Predicted  0\n",
            "Actual  0  Predicted  1\n",
            "Actual  0  Predicted  0\n",
            "Actual  0  Predicted  0\n",
            "Actual  0  Predicted  0\n",
            "Actual  0  Predicted  0\n",
            "Actual  0  Predicted  0\n",
            "Actual  0  Predicted  0\n",
            "Actual  0  Predicted  0\n",
            "Actual  0  Predicted  0\n",
            "Actual  1  Predicted  1\n",
            "Actual  0  Predicted  0\n",
            "Actual  0  Predicted  0\n",
            "Actual  1  Predicted  1\n",
            "Actual  0  Predicted  0\n",
            "Actual  1  Predicted  1\n",
            "Actual  0  Predicted  0\n",
            "Actual  1  Predicted  1\n",
            "Actual  0  Predicted  0\n",
            "Actual  0  Predicted  0\n",
            "Actual  0  Predicted  0\n",
            "Actual  0  Predicted  0\n",
            "Actual  0  Predicted  0\n",
            "Actual  1  Predicted  0\n",
            "Actual  1  Predicted  1\n",
            "Actual  0  Predicted  0\n",
            "Actual  0  Predicted  0\n",
            "Actual  0  Predicted  0\n",
            "Actual  0  Predicted  0\n",
            "Actual  0  Predicted  0\n",
            "Actual  0  Predicted  0\n",
            "Actual  1  Predicted  1\n",
            "Actual  0  Predicted  0\n",
            "Actual  0  Predicted  0\n",
            "Actual  0  Predicted  0\n",
            "Actual  0  Predicted  0\n",
            "Actual  1  Predicted  1\n",
            "Actual  0  Predicted  0\n",
            "Actual  0  Predicted  0\n",
            "Actual  1  Predicted  1\n",
            "Actual  0  Predicted  0\n",
            "Actual  1  Predicted  1\n",
            "Actual  1  Predicted  1\n",
            "Actual  0  Predicted  0\n",
            "Actual  0  Predicted  0\n",
            "Actual  0  Predicted  0\n",
            "Actual  1  Predicted  1\n",
            "Actual  1  Predicted  0\n",
            "Actual  0  Predicted  0\n",
            "Actual  0  Predicted  0\n",
            "Actual  1  Predicted  0\n",
            "Actual  0  Predicted  0\n",
            "Actual  0  Predicted  0\n",
            "Actual  1  Predicted  1\n",
            "Actual  0  Predicted  0\n",
            "Actual  1  Predicted  0\n",
            "Actual  0  Predicted  0\n",
            "Actual  1  Predicted  1\n",
            "Actual  0  Predicted  0\n",
            "Actual  0  Predicted  0\n",
            "Actual  0  Predicted  0\n",
            "Actual  0  Predicted  0\n",
            "Actual  1  Predicted  1\n",
            "Actual  0  Predicted  0\n",
            "Actual  0  Predicted  0\n",
            "Actual  1  Predicted  0\n",
            "Actual  0  Predicted  0\n",
            "Actual  0  Predicted  0\n",
            "Actual  0  Predicted  1\n",
            "Actual  0  Predicted  0\n",
            "Actual  1  Predicted  1\n",
            "Actual  1  Predicted  1\n",
            "Actual  1  Predicted  1\n",
            "Actual  0  Predicted  1\n",
            "Actual  0  Predicted  0\n",
            "Actual  0  Predicted  0\n",
            "Actual  1  Predicted  1\n",
            "Actual  1  Predicted  1\n",
            "Actual  0  Predicted  0\n",
            "Actual  1  Predicted  1\n",
            "Actual  1  Predicted  0\n",
            "Actual  0  Predicted  0\n",
            "Actual  0  Predicted  0\n",
            "Actual  1  Predicted  1\n",
            "Actual  0  Predicted  0\n",
            "Actual  0  Predicted  0\n",
            "Actual  0  Predicted  0\n",
            "Actual  1  Predicted  0\n",
            "Actual  0  Predicted  0\n",
            "Actual  1  Predicted  0\n",
            "Actual  1  Predicted  1\n",
            "Actual  1  Predicted  1\n",
            "Accuracy: 89.0\n"
          ]
        }
      ]
    },
    {
      "cell_type": "markdown",
      "metadata": {
        "id": "Y8sYVBu-iSW-"
      },
      "source": [
        "**Exercise:**\n",
        "\n",
        "Try logistic regression on BuyComputer dataset and set Random state=Your_RollNumber (last 3 digit of ID, incase if you don't have ID)"
      ]
    }
  ]
}