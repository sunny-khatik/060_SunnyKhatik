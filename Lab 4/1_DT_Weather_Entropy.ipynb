{
  "nbformat": 4,
  "nbformat_minor": 0,
  "metadata": {
    "colab": {
      "name": "1_DT_Weather_Entropy.ipynb",
      "provenance": []
    },
    "kernelspec": {
      "display_name": "Python 3 (ipykernel)",
      "language": "python",
      "name": "python3"
    },
    "language_info": {
      "codemirror_mode": {
        "name": "ipython",
        "version": 3
      },
      "file_extension": ".py",
      "mimetype": "text/x-python",
      "name": "python",
      "nbconvert_exporter": "python",
      "pygments_lexer": "ipython3",
      "version": "3.9.7"
    }
  },
  "cells": [
    {
      "cell_type": "markdown",
      "metadata": {
        "id": "De7AICwsdTMR"
      },
      "source": [
        "**Aim: Implement Decsion Tree classifier**\n",
        "\n",
        "\n",
        "- Implement Decision Tree classifier using scikit learn library\n",
        "- Test the classifier for Weather dataset"
      ]
    },
    {
      "cell_type": "markdown",
      "metadata": {
        "id": "alhwH449dTMd"
      },
      "source": [
        "    Step 1: Import necessary libraries."
      ]
    },
    {
      "cell_type": "code",
      "metadata": {
        "id": "1CNH0GcydTMk"
      },
      "source": [
        "from sklearn import preprocessing\n",
        "from sklearn.tree import DecisionTreeClassifier"
      ],
      "execution_count": 1,
      "outputs": []
    },
    {
      "cell_type": "markdown",
      "metadata": {
        "id": "jw3TNFuOdTNH"
      },
      "source": [
        "    Step 2: Prepare dataset."
      ]
    },
    {
      "cell_type": "code",
      "metadata": {
        "id": "8FYtofzfdTNM"
      },
      "source": [
        "#Predictor variables\n",
        "Outlook = ['Rainy', 'Rainy', 'Overcast', 'Sunny', 'Sunny', 'Sunny', 'Overcast',\n",
        "            'Rainy', 'Rainy', 'Sunny', 'Rainy','Overcast', 'Overcast', 'Sunny']\n",
        "Temperature = ['Hot', 'Hot', 'Hot', 'Mild', 'Cool', 'Cool', 'Cool',\n",
        "                'Mild', 'Cool', 'Mild', 'Mild', 'Mild', 'Hot', 'Mild']\n",
        "Humidity = ['High', 'High', 'High', 'High', 'Normal', 'Normal', 'Normal',\n",
        "            'High', 'Normal', 'Normal', 'Normal', 'High', 'Normal', 'High']\n",
        "Wind = ['False', 'True', 'False', 'False', 'False', 'True', 'True',\n",
        "            'False', 'False', 'False', 'True', 'True', 'False', 'True']\n",
        "\n",
        "#Class Label:\n",
        "Play = ['No', 'No', 'Yes', 'Yes', 'Yes', 'No', 'Yes', 'No',\n",
        "'Yes', 'Yes', 'Yes', 'Yes', 'Yes', 'No']"
      ],
      "execution_count": 2,
      "outputs": []
    },
    {
      "cell_type": "markdown",
      "metadata": {
        "id": "8FncMW4IdTNk"
      },
      "source": [
        "    Step 3: Digitize the data set using encoding"
      ]
    },
    {
      "cell_type": "code",
      "metadata": {
        "colab": {
          "base_uri": "https://localhost:8080/"
        },
        "id": "Awu5kIQxdTNo",
        "outputId": "87f06b21-5f1d-46b8-96ab-5332a2538164"
      },
      "source": [
        "#creating labelEncoder\n",
        "le = preprocessing.LabelEncoder()\n",
        "\n",
        "# Converting string labels into numbers.\n",
        "Outlook_encoded = le.fit_transform(Outlook)\n",
        "Outlook_name_mapping = dict(zip(le.classes_, le.transform(le.classes_)))\n",
        "print(\"Outllok mapping:\",Outlook_name_mapping)\n",
        "\n",
        "Temperature_encoded = le.fit_transform(Temperature)\n",
        "Temperature_name_mapping = dict(zip(le.classes_, le.transform(le.classes_)))\n",
        "print(\"Temperature mapping:\",Temperature_name_mapping)\n",
        "\n",
        "Humidity_encoded = le.fit_transform(Humidity)\n",
        "Humidity_name_mapping = dict(zip(le.classes_, le.transform(le.classes_)))\n",
        "print(\"Humidity mapping:\",Humidity_name_mapping)\n",
        "\n",
        "Wind_encoded = le.fit_transform(Wind)\n",
        "Wind_name_mapping = dict(zip(le.classes_, le.transform(le.classes_)))\n",
        "print(\"Wind mapping:\",Wind_name_mapping)\n",
        "\n",
        "Play_encoded = le.fit_transform(Play)\n",
        "Play_name_mapping = dict(zip(le.classes_, le.transform(le.classes_)))\n",
        "print(\"Play mapping:\",Play_name_mapping)\n",
        "\n",
        "print(\"\\n\\n\")\n",
        "print(\"Weather:\" ,Outlook_encoded)\n",
        "print(\"Temerature:\" ,Temperature_encoded)\n",
        "print(\"Humidity:\" ,Humidity_encoded)\n",
        "print(\"Wind:\" ,Wind_encoded)\n",
        "print(\"Play:\" ,Play_encoded)"
      ],
      "execution_count": 3,
      "outputs": [
        {
          "output_type": "stream",
          "name": "stdout",
          "text": [
            "Outllok mapping: {'Overcast': 0, 'Rainy': 1, 'Sunny': 2}\n",
            "Temperature mapping: {'Cool': 0, 'Hot': 1, 'Mild': 2}\n",
            "Humidity mapping: {'High': 0, 'Normal': 1}\n",
            "Wind mapping: {'False': 0, 'True': 1}\n",
            "Play mapping: {'No': 0, 'Yes': 1}\n",
            "\n",
            "\n",
            "\n",
            "Weather: [1 1 0 2 2 2 0 1 1 2 1 0 0 2]\n",
            "Temerature: [1 1 1 2 0 0 0 2 0 2 2 2 1 2]\n",
            "Humidity: [0 0 0 0 1 1 1 0 1 1 1 0 1 0]\n",
            "Wind: [0 1 0 0 0 1 1 0 0 0 1 1 0 1]\n",
            "Play: [0 0 1 1 1 0 1 0 1 1 1 1 1 0]\n"
          ]
        }
      ]
    },
    {
      "cell_type": "markdown",
      "metadata": {
        "id": "ftSYL4UFdTN8"
      },
      "source": [
        "    Step 4: Merge different features to prepare dataset"
      ]
    },
    {
      "cell_type": "code",
      "metadata": {
        "colab": {
          "base_uri": "https://localhost:8080/"
        },
        "id": "RUCHRYb3dTOC",
        "outputId": "0a22e4a8-5cf7-4095-c128-a51e01865883"
      },
      "source": [
        "feature= tuple(zip(Outlook_encoded,Temperature_encoded,Humidity_encoded,Wind_encoded))\n",
        "print(feature)"
      ],
      "execution_count": 4,
      "outputs": [
        {
          "output_type": "stream",
          "name": "stdout",
          "text": [
            "((1, 1, 0, 0), (1, 1, 0, 1), (0, 1, 0, 0), (2, 2, 0, 0), (2, 0, 1, 0), (2, 0, 1, 1), (0, 0, 1, 1), (1, 2, 0, 0), (1, 0, 1, 0), (2, 2, 1, 0), (1, 2, 1, 1), (0, 2, 0, 1), (0, 1, 1, 0), (2, 2, 0, 1))\n"
          ]
        }
      ]
    },
    {
      "cell_type": "markdown",
      "metadata": {
        "id": "NMgpif_GdTOW"
      },
      "source": [
        "    Step 5: Train ’Create and Train DecisionTreeClassifier’"
      ]
    },
    {
      "cell_type": "code",
      "metadata": {
        "colab": {
          "base_uri": "https://localhost:8080/"
        },
        "id": "jDnsCMnGdTOa",
        "outputId": "76406aae-9002-4044-9bab-17349c8dab99"
      },
      "source": [
        "#Create a Decision Tree Classifier (using Entropy)\n",
        "clf_entropy=DecisionTreeClassifier(criterion=\"entropy\")\n",
        "\n",
        "# Train the model using the training sets\n",
        "clf_entropy.fit(feature,Play_encoded)"
      ],
      "execution_count": 7,
      "outputs": [
        {
          "output_type": "execute_result",
          "data": {
            "text/plain": [
              "DecisionTreeClassifier(ccp_alpha=0.0, class_weight=None, criterion='entropy',\n",
              "                       max_depth=None, max_features=None, max_leaf_nodes=None,\n",
              "                       min_impurity_decrease=0.0, min_impurity_split=None,\n",
              "                       min_samples_leaf=1, min_samples_split=2,\n",
              "                       min_weight_fraction_leaf=0.0, presort='deprecated',\n",
              "                       random_state=None, splitter='best')"
            ]
          },
          "metadata": {},
          "execution_count": 7
        }
      ]
    },
    {
      "cell_type": "markdown",
      "metadata": {
        "id": "ZmgZ1-obdTOw"
      },
      "source": [
        "    Step 6: Predict Output for new data"
      ]
    },
    {
      "cell_type": "code",
      "metadata": {
        "colab": {
          "base_uri": "https://localhost:8080/"
        },
        "id": "lD0pzkWtdTOy",
        "outputId": "8f04a53d-e77b-43b9-f824-2128331799aa"
      },
      "source": [
        "#Predict Output\n",
        "predicted=clf_entropy.predict([[1,2,1,0],[2,0,0,1]])\n",
        "print(predicted)"
      ],
      "execution_count": 8,
      "outputs": [
        {
          "output_type": "stream",
          "name": "stdout",
          "text": [
            "[1 0]\n"
          ]
        }
      ]
    },
    {
      "cell_type": "markdown",
      "metadata": {
        "id": "QgrMbw-xdTPB"
      },
      "source": [
        "    Step 7: Display Decsion Tree Created\n",
        "     \n",
        "     - This step requires graphviz and tkinter packages installed "
      ]
    },
    {
      "cell_type": "code",
      "metadata": {
        "colab": {
          "base_uri": "https://localhost:8080/",
          "height": 466
        },
        "id": "lc-d1PeVdTPD",
        "outputId": "1f0f7527-7ed9-454d-a89e-9a0cdefd0738"
      },
      "source": [
        "from sklearn.tree import export_graphviz\n",
        "#export_graphviz(clf_entropy,out_file='tree_entropy.dot',\n",
        " #               feature_names=['outlook','temperature','humidity','wind'],\n",
        "  #              class_names=['play_no','play_yes'], \n",
        "   #             filled=True)\n",
        "\n",
        "# Convert to png\n",
        "#from subprocess import call\n",
        "#call(['dot', '-Tpng', 'tree_entropy.dot', '-o', 'tree_entropy.png', '-Gdpi=600'])\n",
        "\n",
        "# Display in python\n",
        "#import matplotlib.pyplot as plt\n",
        "#plt.figure(figsize = (14, 18))\n",
        "#plt.imshow(plt.imread('tree_entropy.png'))\n",
        "#plt.axis('off');\n",
        "#plt.show();\n",
        "from sklearn import tree\n",
        "tree.plot_tree(clf_entropy,filled=True,impurity=True,class_names=[\"Yes\",\"No\"])\n",
        "\n"
      ],
      "execution_count": 9,
      "outputs": [
        {
          "output_type": "execute_result",
          "data": {
            "text/plain": [
              "[Text(111.60000000000001, 195.696, 'X[0] <= 0.5\\nentropy = 0.94\\nsamples = 14\\nvalue = [5, 9]\\nclass = No'),\n",
              " Text(74.4, 152.208, 'entropy = 0.0\\nsamples = 4\\nvalue = [0, 4]\\nclass = No'),\n",
              " Text(148.8, 152.208, 'X[2] <= 0.5\\nentropy = 1.0\\nsamples = 10\\nvalue = [5, 5]\\nclass = Yes'),\n",
              " Text(74.4, 108.72, 'X[0] <= 1.5\\nentropy = 0.722\\nsamples = 5\\nvalue = [4, 1]\\nclass = Yes'),\n",
              " Text(37.2, 65.232, 'entropy = 0.0\\nsamples = 3\\nvalue = [3, 0]\\nclass = Yes'),\n",
              " Text(111.60000000000001, 65.232, 'X[3] <= 0.5\\nentropy = 1.0\\nsamples = 2\\nvalue = [1, 1]\\nclass = Yes'),\n",
              " Text(74.4, 21.744, 'entropy = 0.0\\nsamples = 1\\nvalue = [0, 1]\\nclass = No'),\n",
              " Text(148.8, 21.744, 'entropy = 0.0\\nsamples = 1\\nvalue = [1, 0]\\nclass = Yes'),\n",
              " Text(223.20000000000002, 108.72, 'X[3] <= 0.5\\nentropy = 0.722\\nsamples = 5\\nvalue = [1, 4]\\nclass = No'),\n",
              " Text(186.0, 65.232, 'entropy = 0.0\\nsamples = 3\\nvalue = [0, 3]\\nclass = No'),\n",
              " Text(260.40000000000003, 65.232, 'X[0] <= 1.5\\nentropy = 1.0\\nsamples = 2\\nvalue = [1, 1]\\nclass = Yes'),\n",
              " Text(223.20000000000002, 21.744, 'entropy = 0.0\\nsamples = 1\\nvalue = [0, 1]\\nclass = No'),\n",
              " Text(297.6, 21.744, 'entropy = 0.0\\nsamples = 1\\nvalue = [1, 0]\\nclass = Yes')]"
            ]
          },
          "metadata": {},
          "execution_count": 9
        },
        {
          "output_type": "display_data",
          "data": {
            "image/png": "[encoded data removed]",
            "text/plain": [
              "<Figure size 432x288 with 1 Axes>"
            ]
          },
          "metadata": {
            "needs_background": "light"
          }
        }
      ]
    },
    {
      "cell_type": "markdown",
      "metadata": {
        "id": "r22uNdQ5dTPc"
      },
      "source": [
        ""
      ]
    }
  ]
}