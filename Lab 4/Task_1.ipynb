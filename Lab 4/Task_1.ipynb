{
  "nbformat": 4,
  "nbformat_minor": 5,
  "metadata": {
    "kernelspec": {
      "display_name": "Python 3 (ipykernel)",
      "language": "python",
      "name": "python3"
    },
    "language_info": {
      "codemirror_mode": {
        "name": "ipython",
        "version": 3
      },
      "file_extension": ".py",
      "mimetype": "text/x-python",
      "name": "python",
      "nbconvert_exporter": "python",
      "pygments_lexer": "ipython3",
      "version": "3.9.7"
    },
    "colab": {
      "name": "Task-1.ipynb",
      "provenance": []
    }
  },
  "cells": [
    {
      "cell_type": "code",
      "metadata": {
        "colab": {
          "base_uri": "https://localhost:8080/"
        },
        "id": "c1d82867-d267-4144-9407-80f598029549",
        "outputId": "2b260a9a-7ad1-44fe-fee3-f50a4e08e45d"
      },
      "source": [
        "import csv\n",
        "import os\n",
        "from sklearn import preprocessing\n",
        "from sklearn.naive_bayes import GaussianNB, MultinomialNB\n",
        "from sklearn.model_selection import train_test_split\n",
        "\n",
        "path=os.getcwd()\n",
        "print(path)"
      ],
      "id": "c1d82867-d267-4144-9407-80f598029549",
      "execution_count": 1,
      "outputs": [
        {
          "output_type": "stream",
          "name": "stdout",
          "text": [
            "/content\n"
          ]
        }
      ]
    },
    {
      "cell_type": "code",
      "metadata": {
        "colab": {
          "base_uri": "https://localhost:8080/"
        },
        "id": "08b5fda1-79a3-42e6-8a24-6c141588ae4c",
        "outputId": "8545d455-1969-4eee-a767-4616c421bb14"
      },
      "source": [
        "Outlook=[]\n",
        "Temp=[]\n",
        "Wind=[]\n",
        "Humidity=[] \n",
        "Label=[]\n",
        "\n",
        "with open(r\"/content/Dataset2.csv\", 'r') as csvfile:\n",
        "    reader = csv.reader(csvfile, delimiter=',')\n",
        "    next(reader)\n",
        "    for row in reader:\n",
        "        Outlook.append(row[0])\n",
        "        Temp.append(row[1])\n",
        "        Wind.append(row[2])\n",
        "        Humidity.append(row[3])\n",
        "        Label.append(row[4])\n",
        "\n",
        "print(\"Outlook :\",Outlook)\n",
        "print(\"Temp :\",Temp)\n",
        "print(\"Wind :\",Wind)\n",
        "print(\"Humidity :\",Humidity)\n",
        "print(\"Label :\",Label)\n"
      ],
      "id": "08b5fda1-79a3-42e6-8a24-6c141588ae4c",
      "execution_count": 3,
      "outputs": [
        {
          "output_type": "stream",
          "name": "stdout",
          "text": [
            "Outlook : ['R', 'R', 'O', 'S', 'S', 'S', 'O', 'R', 'R', 'S', 'R', 'O', 'O', 'S']\n",
            "Temp : ['H', 'H', 'H', 'M', 'M', 'M', 'C', 'C', 'C', 'M', 'M', 'M', 'H', 'M']\n",
            "Wind : ['F', 'T', 'F', 'F', 'F', 'T', 'T', 'F', 'F', 'F', 'T', 'T', 'F', 'T']\n",
            "Humidity : ['Normal', 'High', 'Normal', 'Normal', 'Normal', 'Low', 'Normal', 'Normal', 'Low', 'High', 'High', 'Low', 'Normal', 'Normal']\n",
            "Label : ['N', 'N', 'Y', 'N', 'Y', 'Y', 'Y', 'Y', 'Y', 'Y', 'Y', 'Y', 'Y', 'N']\n"
          ]
        }
      ]
    },
    {
      "cell_type": "code",
      "metadata": {
        "colab": {
          "base_uri": "https://localhost:8080/"
        },
        "id": "48d8b764-3977-4e7b-85d4-e0192ccae069",
        "outputId": "f9310a46-4137-44f1-d672-2d86df9d4aa4"
      },
      "source": [
        "#creating label encoder\n",
        "le = preprocessing.LabelEncoder()\n",
        "encoded_Outlook=le.fit_transform(Outlook)\n",
        "encoded_Temp=le.fit_transform(Temp)\n",
        "encoded_Wind=le.fit_transform(Wind)\n",
        "encoded_Humidity=le.fit_transform(Humidity)\n",
        "encoded_Label=le.fit_transform(Label)\n",
        "\n",
        "print(encoded_Outlook)\n",
        "print(encoded_Temp)\n",
        "print(encoded_Wind)\n",
        "print(encoded_Humidity)\n",
        "print(encoded_Label)"
      ],
      "id": "48d8b764-3977-4e7b-85d4-e0192ccae069",
      "execution_count": 4,
      "outputs": [
        {
          "output_type": "stream",
          "name": "stdout",
          "text": [
            "[1 1 0 2 2 2 0 1 1 2 1 0 0 2]\n",
            "[1 1 1 2 2 2 0 0 0 2 2 2 1 2]\n",
            "[0 1 0 0 0 1 1 0 0 0 1 1 0 1]\n",
            "[2 0 2 2 2 1 2 2 1 0 0 1 2 2]\n",
            "[0 0 1 0 1 1 1 1 1 1 1 1 1 0]\n"
          ]
        }
      ]
    },
    {
      "cell_type": "code",
      "metadata": {
        "colab": {
          "base_uri": "https://localhost:8080/"
        },
        "id": "23eccd5e-fc42-4ee8-9c81-a04937216aa2",
        "outputId": "714c6014-5e21-4d45-93c5-342baad93fc2"
      },
      "source": [
        "#Combinig Outlook,temp,wind,humidity into single listof tuples\n",
        "feature=tuple(zip(encoded_Outlook,encoded_Temp,encoded_Wind,encoded_Humidity,))\n",
        "print(feature)"
      ],
      "id": "23eccd5e-fc42-4ee8-9c81-a04937216aa2",
      "execution_count": 7,
      "outputs": [
        {
          "output_type": "stream",
          "name": "stdout",
          "text": [
            "((1, 1, 0, 2), (1, 1, 1, 0), (0, 1, 0, 2), (2, 2, 0, 2), (2, 2, 0, 2), (2, 2, 1, 1), (0, 0, 1, 2), (1, 0, 0, 2), (1, 0, 0, 1), (2, 2, 0, 0), (1, 2, 1, 0), (0, 2, 1, 1), (0, 1, 0, 2), (2, 2, 1, 2))\n"
          ]
        }
      ]
    },
    {
      "cell_type": "code",
      "metadata": {
        "id": "3914365c-0a8f-444f-8ce7-619be7727850"
      },
      "source": [
        "#split data set into train and test sets\n",
        "#Id:18CEUBG082\n",
        "data_Train, data_Test, target_Train, target_Test = train_test_split(features,\n",
        "                        encoded_Label, test_size = 0.10, random_state = 82)"
      ],
      "id": "3914365c-0a8f-444f-8ce7-619be7727850",
      "execution_count": 8,
      "outputs": []
    },
    {
      "cell_type": "code",
      "metadata": {
        "colab": {
          "base_uri": "https://localhost:8080/"
        },
        "id": "f6f9018d-5697-48b0-9ae3-5fd8aac508d9",
        "outputId": "78ab1ba1-ae6c-4106-e532-de26f44e6f49"
      },
      "source": [
        "from sklearn import preprocessing\n",
        "from sklearn.tree import DecisionTreeClassifier\n",
        "\n",
        "#Create a Decision Tree Classifier (using Entropy)\n",
        "clf_entropy=DecisionTreeClassifier(criterion=\"entropy\")\n",
        "\n",
        "# Train the model using the training sets\n",
        "clf_entropy.fit(features,encoded_Label)"
      ],
      "id": "f6f9018d-5697-48b0-9ae3-5fd8aac508d9",
      "execution_count": 9,
      "outputs": [
        {
          "output_type": "execute_result",
          "data": {
            "text/plain": [
              "DecisionTreeClassifier(ccp_alpha=0.0, class_weight=None, criterion='entropy',\n",
              "                       max_depth=None, max_features=None, max_leaf_nodes=None,\n",
              "                       min_impurity_decrease=0.0, min_impurity_split=None,\n",
              "                       min_samples_leaf=1, min_samples_split=2,\n",
              "                       min_weight_fraction_leaf=0.0, presort='deprecated',\n",
              "                       random_state=None, splitter='best')"
            ]
          },
          "metadata": {},
          "execution_count": 9
        }
      ]
    },
    {
      "cell_type": "code",
      "metadata": {
        "id": "5dfbd825-231b-4b6f-a6fe-3006892c42ed"
      },
      "source": [
        "# Predict the classes of test data\n",
        "test_pred=clf_entropy.predict(data_Test)"
      ],
      "id": "5dfbd825-231b-4b6f-a6fe-3006892c42ed",
      "execution_count": 10,
      "outputs": []
    },
    {
      "cell_type": "code",
      "metadata": {
        "colab": {
          "base_uri": "https://localhost:8080/"
        },
        "id": "a007586f-1910-4e8d-95df-b1ce81798019",
        "outputId": "cfd3165e-b1b4-473b-9e51-47787802b9fd"
      },
      "source": [
        "# Model Accuracy, how often is the classifier correct?\n",
        "from sklearn.metrics import accuracy_score\n",
        "print('\\nAccuracy: {0:.4f}'.format(accuracy_score(target_Test, test_pred)))"
      ],
      "id": "a007586f-1910-4e8d-95df-b1ce81798019",
      "execution_count": 11,
      "outputs": [
        {
          "output_type": "stream",
          "name": "stdout",
          "text": [
            "\n",
            "Accuracy: 1.0000\n"
          ]
        }
      ]
    },
    {
      "cell_type": "code",
      "metadata": {
        "colab": {
          "base_uri": "https://localhost:8080/"
        },
        "id": "9fd36167-8ab9-48d1-8b1c-5675bb74e268",
        "outputId": "7e0c94bb-9524-4c16-b06d-a36c4a67ce65"
      },
      "source": [
        "#Answer to the question for Task-1\n",
        "\n",
        "#Question-1:What will be the value of Play, if Outlook is ’Rainy’, Temperature is ’Mild’, Humidity =’Normal’, and Wind = ’False’?\n",
        "\n",
        "#Predict Output\n",
        "predicted= clf_entropy.predict([[1,2,0,2]]) # 1:Rainy 2:Mild 0:False  2:Normal\n",
        "print(\"Predicted Value:\", predicted)"
      ],
      "id": "9fd36167-8ab9-48d1-8b1c-5675bb74e268",
      "execution_count": 12,
      "outputs": [
        {
          "output_type": "stream",
          "name": "stdout",
          "text": [
            "Predicted Value: [0]\n"
          ]
        }
      ]
    },
    {
      "cell_type": "code",
      "metadata": {
        "colab": {
          "base_uri": "https://localhost:8080/"
        },
        "id": "e3e4cd79-1510-416e-a624-25ddb5c5adb6",
        "outputId": "e18a9845-dad1-4614-8672-aa2b171023f5"
      },
      "source": [
        "#Question-2:What will be the value of Play, if Outlook is ’Sunny’, Temeprature is ’Cool’, Humidity =’High’, and Wind = ’True’?\n",
        "\n",
        "#Predict Output\n",
        "predicted= clf_entropy.predict([[2,0,1,0]]) # 2:Sunny 0:Cool  1:True  2:Humidity\n",
        "print(\"Predicted Value:\", predicted)\n"
      ],
      "id": "e3e4cd79-1510-416e-a624-25ddb5c5adb6",
      "execution_count": 13,
      "outputs": [
        {
          "output_type": "stream",
          "name": "stdout",
          "text": [
            "Predicted Value: [1]\n"
          ]
        }
      ]
    },
    {
      "cell_type": "code",
      "metadata": {
        "colab": {
          "base_uri": "https://localhost:8080/"
        },
        "id": "6d8122ef-07a8-4462-adaf-fcd4d5096a8f",
        "outputId": "d3b60a5c-7e0c-4720-cbb6-242044271b1b"
      },
      "source": [
        "#Question-3:Precession and Recall of this model\n",
        "\n",
        "from sklearn.metrics import precision_score\n",
        "from sklearn.metrics import recall_score\n",
        "\n",
        "precision = precision_score(target_Test, test_pred)\n",
        "recall = recall_score(target_Test, test_pred)\n",
        "\n",
        "print('precision: {}'.format(precision))\n",
        "print('recall: {}'.format(recall))"
      ],
      "id": "6d8122ef-07a8-4462-adaf-fcd4d5096a8f",
      "execution_count": 15,
      "outputs": [
        {
          "output_type": "stream",
          "name": "stdout",
          "text": [
            "precision: 1.0\n",
            "recall: 1.0\n"
          ]
        }
      ]
    },
    {
      "cell_type": "code",
      "metadata": {
        "id": "b74f40b1-449b-40aa-bb97-026a6fc968e5"
      },
      "source": [
        ""
      ],
      "id": "b74f40b1-449b-40aa-bb97-026a6fc968e5",
      "execution_count": null,
      "outputs": []
    }
  ]
}