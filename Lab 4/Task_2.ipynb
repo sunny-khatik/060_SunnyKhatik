{
  "nbformat": 4,
  "nbformat_minor": 5,
  "metadata": {
    "kernelspec": {
      "display_name": "Python 3 (ipykernel)",
      "language": "python",
      "name": "python3"
    },
    "language_info": {
      "codemirror_mode": {
        "name": "ipython",
        "version": 3
      },
      "file_extension": ".py",
      "mimetype": "text/x-python",
      "name": "python",
      "nbconvert_exporter": "python",
      "pygments_lexer": "ipython3",
      "version": "3.9.7"
    },
    "colab": {
      "name": "Task_2.ipynb",
      "provenance": []
    }
  },
  "cells": [
    {
      "cell_type": "code",
      "metadata": {
        "id": "44fd0b18-5ad3-4141-b88c-336c558a62ee"
      },
      "source": [
        "# evaluate logistic regression on the breast cancer dataset with an one-hot encoding\n",
        "\n",
        "from numpy import std\n",
        "from pandas import read_csv\n",
        "from numpy import mean\n",
        "from sklearn.model_selection import train_test_split\n",
        "from sklearn.linear_model import LogisticRegression\n",
        "from sklearn.preprocessing import LabelEncoder\n",
        "from sklearn.preprocessing import OneHotEncoder\n",
        "from sklearn.metrics import accuracy_score"
      ],
      "id": "44fd0b18-5ad3-4141-b88c-336c558a62ee",
      "execution_count": 1,
      "outputs": []
    },
    {
      "cell_type": "code",
      "metadata": {
        "colab": {
          "base_uri": "https://localhost:8080/"
        },
        "id": "683faf9d-aa9d-4a8e-bc5a-761c499d1c83",
        "outputId": "7f34af21-c3b2-490c-ae9a-9aa6b8d10169"
      },
      "source": [
        "# define the location of the dataset\n",
        "url = \"https://raw.githubusercontent.com/jbrownlee/Datasets/master/breast-cancer.csv\"\n",
        "# load the dataset\n",
        "dataset = read_csv(url, header=None)\n",
        "# retrieve the array of data\n",
        "data = dataset.values\n",
        "# separate into input and output columns\n",
        "x = data[:, :-1].astype(str)\n",
        "y = data[:, -1].astype(str)\n",
        "\n",
        "print('Input:',x.shape)\n",
        "print('Output:',y.shape)"
      ],
      "id": "683faf9d-aa9d-4a8e-bc5a-761c499d1c83",
      "execution_count": 2,
      "outputs": [
        {
          "output_type": "stream",
          "name": "stdout",
          "text": [
            "Input: (286, 9)\n",
            "Output: (286,)\n"
          ]
        }
      ]
    },
    {
      "cell_type": "code",
      "metadata": {
        "colab": {
          "base_uri": "https://localhost:8080/"
        },
        "id": "a4cba8e1-4d29-48fa-b813-328c2c86cac9",
        "outputId": "28de426e-c191-4d3c-a0d2-0fc82dd0c16c"
      },
      "source": [
        "# split the dataset into train and test sets\n",
        "#Roll Number : 60\n",
        "x_Train, x_Test, y_Train, y_Test = train_test_split(x, y, test_size=0.40, random_state=60)\n",
        "print(x_Train)\n",
        "print(x_Test)"
      ],
      "id": "a4cba8e1-4d29-48fa-b813-328c2c86cac9",
      "execution_count": 3,
      "outputs": [
        {
          "output_type": "stream",
          "name": "stdout",
          "text": [
            "[[\"'20-29'\" \"'premeno'\" \"'35-39'\" ... \"'right'\" \"'right_up'\" \"'no'\"]\n",
            " [\"'60-69'\" \"'ge40'\" \"'20-24'\" ... \"'left'\" \"'left_low'\" \"'yes'\"]\n",
            " [\"'60-69'\" \"'ge40'\" \"'30-34'\" ... \"'right'\" \"'right_up'\" \"'no'\"]\n",
            " ...\n",
            " [\"'50-59'\" \"'premeno'\" \"'25-29'\" ... \"'left'\" \"'left_low'\" \"'yes'\"]\n",
            " [\"'50-59'\" \"'ge40'\" \"'15-19'\" ... \"'right'\" \"'central'\" \"'no'\"]\n",
            " [\"'60-69'\" \"'ge40'\" \"'40-44'\" ... \"'right'\" \"'left_low'\" \"'no'\"]]\n",
            "[[\"'40-49'\" \"'premeno'\" \"'15-19'\" ... \"'left'\" \"'left_up'\" \"'no'\"]\n",
            " [\"'50-59'\" \"'ge40'\" \"'25-29'\" ... \"'left'\" \"'left_low'\" \"'no'\"]\n",
            " [\"'50-59'\" \"'ge40'\" \"'40-44'\" ... \"'left'\" \"'left_low'\" \"'yes'\"]\n",
            " ...\n",
            " [\"'40-49'\" \"'premeno'\" \"'50-54'\" ... \"'right'\" \"'left_low'\" \"'yes'\"]\n",
            " [\"'40-49'\" \"'premeno'\" \"'25-29'\" ... \"'right'\" \"'left_low'\" \"'no'\"]\n",
            " [\"'40-49'\" \"'premeno'\" \"'15-19'\" ... \"'right'\" \"'right_low'\" \"'yes'\"]]\n"
          ]
        }
      ]
    },
    {
      "cell_type": "code",
      "metadata": {
        "id": "2928f043-d0b5-4e5c-b9de-dd2e9b55c5a4"
      },
      "source": [
        "# one-hot encode input variables\n",
        "onehot_encoder = OneHotEncoder(sparse=False,handle_unknown='ignore')\n",
        "onehot_encoder.fit(x_Train)\n",
        "x_Train = onehot_encoder.transform(x_Train)\n",
        "x_Test = onehot_encoder.transform(x_Test)\n",
        "\n",
        "# ordinal encode target variable\n",
        "label_encoder = LabelEncoder()\n",
        "label_encoder.fit(y_Train)\n",
        "y_Train = label_encoder.transform(y_Train)\n",
        "y_Test = label_encoder.transform(y_Test)\n",
        "\n"
      ],
      "id": "2928f043-d0b5-4e5c-b9de-dd2e9b55c5a4",
      "execution_count": 4,
      "outputs": []
    },
    {
      "cell_type": "code",
      "metadata": {
        "colab": {
          "base_uri": "https://localhost:8080/"
        },
        "id": "096bf4f4-febd-4c99-9f53-83c6694e3d50",
        "outputId": "2bfabba6-97a9-46e7-8741-199bf9734dc7"
      },
      "source": [
        "from sklearn import preprocessing\n",
        "from sklearn.tree import DecisionTreeClassifier\n",
        "#Import scikit-learn metrics module for accuracy calculation\n",
        "from sklearn.metrics  import accuracy_score\n",
        "#Create a Decision Tree Classifier (using Entropy)\n",
        "clf_entropy=DecisionTreeClassifier(criterion=\"entropy\")\n",
        "\n",
        "# Train the model using the training sets\n",
        "clf_entropy.fit(x_Train, y_Train)\n",
        "pred_Test = clf_entropy.predict(x_Test)\n",
        "acc= accuracy_score(y_Test, pred_Test)\n",
        "print(acc)\n"
      ],
      "id": "096bf4f4-febd-4c99-9f53-83c6694e3d50",
      "execution_count": 5,
      "outputs": [
        {
          "output_type": "stream",
          "name": "stdout",
          "text": [
            "0.6695652173913044\n"
          ]
        }
      ]
    },
    {
      "cell_type": "code",
      "metadata": {
        "colab": {
          "base_uri": "https://localhost:8080/"
        },
        "id": "515cff8a-1b32-477b-8703-d8633e01ea54",
        "outputId": "cc956e96-d230-4a36-82d9-042ab5bad1a9"
      },
      "source": [
        "#Question-3:Precession and Recall of the model\n",
        "\n",
        "from sklearn.metrics import precision_score\n",
        "from sklearn.metrics import recall_score\n",
        "\n",
        "precision = precision_score(y_Test, pred_Test)\n",
        "recall = recall_score(y_Test, pred_Test)\n",
        "\n",
        "print('precision : {}'.format(precision))\n",
        "print('recall : {}'.format(recall))"
      ],
      "id": "515cff8a-1b32-477b-8703-d8633e01ea54",
      "execution_count": 6,
      "outputs": [
        {
          "output_type": "stream",
          "name": "stdout",
          "text": [
            "precision : 0.42857142857142855\n",
            "recall : 0.35294117647058826\n"
          ]
        }
      ]
    },
    {
      "cell_type": "code",
      "metadata": {
        "id": "bcd28fe7-a1e7-4e9b-badf-03275f9fee70"
      },
      "source": [
        ""
      ],
      "id": "bcd28fe7-a1e7-4e9b-badf-03275f9fee70",
      "execution_count": 6,
      "outputs": []
    }
  ]
}